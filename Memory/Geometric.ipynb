{
 "cells": [
  {
   "cell_type": "code",
   "execution_count": 1,
   "id": "54e96a95-b5c3-4036-b6ba-1245dcc8c61d",
   "metadata": {},
   "outputs": [],
   "source": [
    "import os\n",
    "import pandas as pd\n",
    "import numpy as np\n",
    "from PIL import Image\n",
    "from sklearn.model_selection import train_test_split\n",
    "import torch\n",
    "from torch.utils.data import Dataset\n",
    "from skimage.feature import local_binary_pattern, hog\n",
    "from skimage.color import rgb2gray\n",
    "from sklearn.preprocessing import StandardScaler\n",
    "from skimage.transform import resize\n",
    "from sklearn.svm import SVR\n",
    "from skimage import exposure\n",
    "from scipy.stats import spearmanr\n",
    "from skimage import color"
   ]
  },
  {
   "cell_type": "code",
   "execution_count": 2,
   "id": "603d9a88-8eb8-4418-a998-20e2be66dd63",
   "metadata": {},
   "outputs": [],
   "source": [
    "class FacesMemorabilityDataset(Dataset):\n",
    "    def __init__(self, dataframe, root_dir, transform=None):\n",
    "        self.dataframe = dataframe\n",
    "        self.root_dir = root_dir\n",
    "        self.transform = transform\n",
    "\n",
    "    def __len__(self):\n",
    "        return len(self.dataframe)\n",
    "\n",
    "    def __getitem__(self, index):\n",
    "        if torch.is_tensor(index):\n",
    "            index = index.tolist()\n",
    "        img_name = os.path.join(self.root_dir, self.dataframe.iloc[index, 0])\n",
    "        image = Image.open(img_name).convert('RGB')\n",
    "        memorability_score = self.dataframe.iloc[index, 6] - self.dataframe.iloc[index, 7]\n",
    "        if self.transform:\n",
    "            image = self.transform(image)\n",
    "        return image, memorability_score"
   ]
  },
  {
   "cell_type": "code",
   "execution_count": 3,
   "id": "0c3fe289-d165-402a-9824-ea56e400c580",
   "metadata": {},
   "outputs": [],
   "source": [
    "def extract_color_features(image):\n",
    "    # 将PIL.Image对象转换为numpy数组\n",
    "    image_array = np.array(image)\n",
    "    # 计算彩色直方图\n",
    "    color_features = [np.histogram(image_array[:, :, i], bins=256, range=(0, 256))[0] for i in range(3)]\n",
    "    return np.concatenate(color_features)\n",
    "\n",
    "def extract_lbp_features(image):\n",
    "    gray_image = rgb2gray(np.array(image))\n",
    "    gray_image = (gray_image * 255).astype('uint8')\n",
    "    lbp = local_binary_pattern(gray_image, P=24, R=3, method=\"uniform\")  # 增加P值和R值\n",
    "    lbp_hist, _ = np.histogram(lbp.ravel(), bins=np.arange(0, 26), range=(0, 26))  # 相应地增加直方图的bins数\n",
    "    return lbp_hist\n",
    "\n",
    "\n",
    "def extract_hog_features(image):\n",
    "    # 将PIL.Image对象转换为numpy数组，并转换为灰度\n",
    "    gray_image = rgb2gray(np.array(image))\n",
    "    # 确保图像尺寸一致，或调整HOG参数使特征长度一致\n",
    "    resized_image = resize(gray_image, (128, 128))  # 例如，调整到128x128大小\n",
    "    hog_features = hog(resized_image, orientations=8, pixels_per_cell=(16, 16),\n",
    "                       cells_per_block=(1, 1), block_norm='L2-Hys', visualize=False, feature_vector=True)\n",
    "    return hog_features"
   ]
  },
  {
   "cell_type": "code",
   "execution_count": 4,
   "id": "4dccdb3a-24c8-4445-991d-7011c3dcf7b1",
   "metadata": {},
   "outputs": [],
   "source": [
    "def extract_features(dataset, feature_extractor):\n",
    "    X, y = [], []\n",
    "    for i in range(len(dataset)):\n",
    "        image, score = dataset[i]\n",
    "        features = feature_extractor(image)\n",
    "        # print(f\"Features length from {feature_extractor.__name__}: {len(features)}\")  # 打印特征长度\n",
    "        X.append(features)\n",
    "        y.append(score)\n",
    "    return np.array(X, dtype=object), np.array(y)  # 使用dtype=object可以暂时解决问题，但最好是有统一的长度\n"
   ]
  },
  {
   "cell_type": "code",
   "execution_count": 5,
   "id": "4b9eb9f3-4bab-4aff-a113-b0485bab02c1",
   "metadata": {},
   "outputs": [],
   "source": [
    "feature_extractors = {\n",
    "    'Color': extract_color_features,\n",
    "    'LBP': extract_lbp_features,\n",
    "    'HOG': extract_hog_features\n",
    "}"
   ]
  },
  {
   "cell_type": "code",
   "execution_count": 6,
   "id": "1cdc65eb-4a5c-4cad-aaf3-8f3571d8817d",
   "metadata": {},
   "outputs": [],
   "source": [
    "labels_file = '../data/Wilma Bainbridge_10k US Adult Faces Database/Memorability Scores/memorability-scores.xlsx'\n",
    "root_dir = '../data/Wilma Bainbridge_10k US Adult Faces Database/10k US Adult Faces Database/Face Images'\n",
    "df = pd.read_excel(labels_file)\n",
    "train_df, test_df = train_test_split(df, test_size=0.2, random_state=42)\n",
    "train_dataset = FacesMemorabilityDataset(train_df, root_dir)\n",
    "test_dataset = FacesMemorabilityDataset(test_df, root_dir)"
   ]
  },
  {
   "cell_type": "code",
   "execution_count": 7,
   "id": "f045ef1d-dcf5-4910-a9b9-ae1e8d520b60",
   "metadata": {
    "scrolled": true
   },
   "outputs": [
    {
     "name": "stdout",
     "output_type": "stream",
     "text": [
      "Spearman Correlation for Color: 0.17\n",
      "Spearman Correlation for LBP: 0.19\n",
      "Spearman Correlation for HOG: 0.48\n"
     ]
    }
   ],
   "source": [
    "results = {}\n",
    "for feature_name, extractor in feature_extractors.items():\n",
    "    # 创建特征和标签\n",
    "    X_train, y_train = extract_features(train_dataset, extractor)\n",
    "    X_test, y_test = extract_features(test_dataset, extractor)\n",
    "\n",
    "    # 特征标准化\n",
    "    scaler = StandardScaler()\n",
    "    X_train_scaled = scaler.fit_transform(X_train)\n",
    "    X_test_scaled = scaler.transform(X_test)\n",
    "\n",
    "    # 训练SVM\n",
    "    svm_regressor = SVR(kernel='rbf')\n",
    "    svm_regressor.fit(X_train_scaled, y_train)\n",
    "\n",
    "    # 预测\n",
    "    y_pred = svm_regressor.predict(X_test_scaled)\n",
    "\n",
    "    # 计算斯皮尔曼相关性\n",
    "    correlation, _ = spearmanr(y_test, y_pred)\n",
    "    results[feature_name] = correlation\n",
    "\n",
    "for feature_name, correlation in results.items():\n",
    "    print(f\"Spearman Correlation for {feature_name}: {correlation:.2f}\")"
   ]
  },
  {
   "cell_type": "code",
   "execution_count": null,
   "id": "d5e4a770-da65-4310-aac9-4153cf31e3e1",
   "metadata": {},
   "outputs": [],
   "source": [
    "for feature_name, correlation in results.items():\n",
    "    print(f\"Spearman Correlation for {feature_name}: {correlation:.2f}\")"
   ]
  },
  {
   "cell_type": "code",
   "execution_count": null,
   "id": "8e2d5194-ca99-4fec-9cb8-afb530e314b8",
   "metadata": {},
   "outputs": [],
   "source": []
  }
 ],
 "metadata": {
  "kernelspec": {
   "display_name": "Py38",
   "language": "python",
   "name": "xy_py38"
  },
  "language_info": {
   "codemirror_mode": {
    "name": "ipython",
    "version": 3
   },
   "file_extension": ".py",
   "mimetype": "text/x-python",
   "name": "python",
   "nbconvert_exporter": "python",
   "pygments_lexer": "ipython3",
   "version": "3.8.18"
  }
 },
 "nbformat": 4,
 "nbformat_minor": 5
}
